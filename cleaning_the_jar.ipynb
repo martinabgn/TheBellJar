{
 "cells": [
  {
   "metadata": {},
   "cell_type": "markdown",
   "source": "This notebook would be used for cleaning the data, based on what will be needed for the research questions",
   "id": "ab3d6d9f178f0779"
  },
  {
   "metadata": {},
   "cell_type": "markdown",
   "source": "Removing the Book's Header",
   "id": "ccbf33f5b6558def"
  },
  {
   "metadata": {
    "ExecuteTime": {
     "end_time": "2024-10-17T13:58:12.588944Z",
     "start_time": "2024-10-17T13:58:12.575435Z"
    }
   },
   "cell_type": "code",
   "source": [
    "def remove_header(file_path, output_file):\n",
    "    end_of_header = \"Sylvia Plath\"\n",
    "    header_found = False\n",
    "\n",
    "    with open(file_path, 'r', encoding='utf-8') as infile:\n",
    "        lines = infile.readlines()\n",
    "\n",
    "    with open(output_file, 'w', encoding='utf-8') as outfile:\n",
    "        for line in lines:\n",
    "            if end_of_header in line:\n",
    "                header_found = True\n",
    "                continue \n",
    "            if header_found:\n",
    "                outfile.write(line)\n",
    "\n",
    "remove_header('the_bell_jar.txt', 'the_clean_jar.txt')\n"
   ],
   "id": "33ce2d1d7449d082",
   "outputs": [],
   "execution_count": 2
  },
  {
   "metadata": {},
   "cell_type": "markdown",
   "source": "Splitting the Book's Chapters",
   "id": "981ef83258472c12"
  },
  {
   "metadata": {
    "ExecuteTime": {
     "end_time": "2024-10-17T13:58:17.635725Z",
     "start_time": "2024-10-17T13:58:17.455628Z"
    }
   },
   "cell_type": "code",
   "source": [
    "import re\n",
    "import csv\n",
    "\n",
    "def chapters_csv(input_file, output_csv):\n",
    "    chapter_pattern = re.compile(r'(Chapter [A-Z][a-z]+)', re.IGNORECASE)\n",
    "\n",
    "    with open(input_file, 'r', encoding='utf-8') as infile:\n",
    "        lines = infile.readlines()\n",
    "\n",
    "    chapters = []\n",
    "    current_chapter_content = []\n",
    "    current_chapter_title = None\n",
    "\n",
    "    for line in lines:\n",
    "        match = chapter_pattern.match(line.strip())\n",
    "        if match:\n",
    "            if current_chapter_title and current_chapter_content:\n",
    "                chapters.append((current_chapter_title, \" \".join(current_chapter_content)))\n",
    "                current_chapter_content = []\n",
    "\n",
    "            current_chapter_title = line.strip()\n",
    "        else:\n",
    "            current_chapter_content.append(line.strip())\n",
    "\n",
    "    if current_chapter_title and current_chapter_content:\n",
    "        chapters.append((current_chapter_title, \" \".join(current_chapter_content)))\n",
    "\n",
    "    with open(output_csv, 'w', newline='', encoding='utf-8') as csvfile:\n",
    "        writer = csv.writer(csvfile)\n",
    "        writer.writerow(['Chapter', 'Content'])  # Write the header\n",
    "        writer.writerows(chapters)  # Write the chapters and content\n",
    "\n",
    "\n",
    "chapters_csv('the_clean_jar.txt', 'bell_jar_chapters.csv')\n"
   ],
   "id": "725bac88801ef802",
   "outputs": [],
   "execution_count": 3
  },
  {
   "metadata": {},
   "cell_type": "code",
   "source": "",
   "id": "c50a63fcef338acc",
   "outputs": [],
   "execution_count": null
  }
 ],
 "metadata": {
  "kernelspec": {
   "display_name": "Python 3",
   "language": "python",
   "name": "python3"
  },
  "language_info": {
   "codemirror_mode": {
    "name": "ipython",
    "version": 2
   },
   "file_extension": ".py",
   "mimetype": "text/x-python",
   "name": "python",
   "nbconvert_exporter": "python",
   "pygments_lexer": "ipython2",
   "version": "2.7.6"
  }
 },
 "nbformat": 4,
 "nbformat_minor": 5
}
